{
 "cells": [
  {
   "cell_type": "markdown",
   "id": "1b8c561d",
   "metadata": {},
   "source": [
    "Trying out jupyter"
   ]
  },
  {
   "cell_type": "code",
   "execution_count": 7,
   "id": "7e8b622a",
   "metadata": {},
   "outputs": [
    {
     "name": "stdout",
     "output_type": "stream",
     "text": [
      "你好，jupyter\n"
     ]
    }
   ],
   "source": [
    "print('你好，jupyter')"
   ]
  },
  {
   "cell_type": "markdown",
   "id": "06c48c90",
   "metadata": {},
   "source": [
    "Here is a new variable"
   ]
  },
  {
   "cell_type": "code",
   "execution_count": null,
   "id": "78591c52",
   "metadata": {},
   "outputs": [],
   "source": [
    "BFF = 'Colin'"
   ]
  },
  {
   "cell_type": "markdown",
   "id": "274eef3f",
   "metadata": {},
   "source": [
    "Who is your BFF? function"
   ]
  },
  {
   "cell_type": "code",
   "execution_count": 23,
   "id": "130fa6f9",
   "metadata": {},
   "outputs": [],
   "source": [
    "def is_BFF(name):\n",
    "    BFF = 'Colin'\n",
    "    \n",
    "    if name == BFF:\n",
    "        answer = \"YES\"\n",
    "    else: answer = \"NO\"\n",
    "    return answer"
   ]
  },
  {
   "cell_type": "code",
   "execution_count": 26,
   "id": "4b405803",
   "metadata": {},
   "outputs": [
    {
     "data": {
      "text/plain": [
       "'YES'"
      ]
     },
     "execution_count": 26,
     "metadata": {},
     "output_type": "execute_result"
    }
   ],
   "source": [
    "is_BFF(\"Colin\")"
   ]
  },
  {
   "cell_type": "code",
   "execution_count": null,
   "id": "cffe8ee4",
   "metadata": {},
   "outputs": [],
   "source": []
  }
 ],
 "metadata": {
  "kernelspec": {
   "display_name": "Python 3 (ipykernel)",
   "language": "python",
   "name": "python3"
  },
  "language_info": {
   "codemirror_mode": {
    "name": "ipython",
    "version": 3
   },
   "file_extension": ".py",
   "mimetype": "text/x-python",
   "name": "python",
   "nbconvert_exporter": "python",
   "pygments_lexer": "ipython3",
   "version": "3.9.12"
  }
 },
 "nbformat": 4,
 "nbformat_minor": 5
}
