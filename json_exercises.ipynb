{
 "cells": [
  {
   "cell_type": "code",
   "execution_count": 39,
   "id": "3fdd121a",
   "metadata": {},
   "outputs": [],
   "source": [
    "import json\n",
    "import function_exercises as fe\n",
    "import itertools as it\n",
    "\n",
    "some_info = json.load(open('profiles.json'))"
   ]
  },
  {
   "cell_type": "markdown",
   "id": "14f1af66",
   "metadata": {},
   "source": [
    "## Total number of users"
   ]
  },
  {
   "cell_type": "code",
   "execution_count": 3,
   "id": "67530df7",
   "metadata": {},
   "outputs": [
    {
     "data": {
      "text/plain": [
       "19"
      ]
     },
     "execution_count": 3,
     "metadata": {},
     "output_type": "execute_result"
    }
   ],
   "source": [
    "len(some_info[:])"
   ]
  },
  {
   "cell_type": "markdown",
   "id": "cbc676d3",
   "metadata": {},
   "source": [
    "## Number of active users"
   ]
  },
  {
   "cell_type": "code",
   "execution_count": 11,
   "id": "a5a398f8",
   "metadata": {},
   "outputs": [
    {
     "data": {
      "text/plain": [
       "9"
      ]
     },
     "execution_count": 11,
     "metadata": {},
     "output_type": "execute_result"
    }
   ],
   "source": [
    "len([c for c in some_info if c['isActive']== True])"
   ]
  },
  {
   "cell_type": "markdown",
   "id": "e3ed55f8",
   "metadata": {},
   "source": [
    "## Number of inactive users"
   ]
  },
  {
   "cell_type": "code",
   "execution_count": 5,
   "id": "708bc1fa",
   "metadata": {},
   "outputs": [
    {
     "data": {
      "text/plain": [
       "10"
      ]
     },
     "execution_count": 5,
     "metadata": {},
     "output_type": "execute_result"
    }
   ],
   "source": [
    "len([c for c in some_info if c['isActive']== False])"
   ]
  },
  {
   "cell_type": "markdown",
   "id": "e3068033",
   "metadata": {},
   "source": [
    "## Grand total of balances for all users"
   ]
  },
  {
   "cell_type": "code",
   "execution_count": 4,
   "id": "f9257cf7",
   "metadata": {},
   "outputs": [
    {
     "data": {
      "text/plain": [
       "52667.02"
      ]
     },
     "execution_count": 4,
     "metadata": {},
     "output_type": "execute_result"
    }
   ],
   "source": [
    "sum([fe.money_to_number(c['balance']) for c in some_info])"
   ]
  },
  {
   "cell_type": "markdown",
   "id": "254e8b12",
   "metadata": {},
   "source": [
    "## Average balance per user"
   ]
  },
  {
   "cell_type": "code",
   "execution_count": 7,
   "id": "78eedfc1",
   "metadata": {},
   "outputs": [
    {
     "data": {
      "text/plain": [
       "2771.9484210526316"
      ]
     },
     "execution_count": 7,
     "metadata": {},
     "output_type": "execute_result"
    }
   ],
   "source": [
    "sum([fe.money_to_number(c['balance']) for c in some_info])/len(some_info[:])"
   ]
  },
  {
   "cell_type": "markdown",
   "id": "181f9d4f",
   "metadata": {},
   "source": [
    "## User with the lowest balance"
   ]
  },
  {
   "cell_type": "code",
   "execution_count": 10,
   "id": "f79805fc",
   "metadata": {},
   "outputs": [
    {
     "data": {
      "text/plain": [
       "1214.1"
      ]
     },
     "execution_count": 10,
     "metadata": {},
     "output_type": "execute_result"
    }
   ],
   "source": [
    "min([fe.money_to_number(c['balance']) for c in some_info])"
   ]
  },
  {
   "cell_type": "markdown",
   "id": "018bc000",
   "metadata": {},
   "source": [
    "## User with the highest balance"
   ]
  },
  {
   "cell_type": "code",
   "execution_count": 9,
   "id": "16cb3245",
   "metadata": {},
   "outputs": [
    {
     "data": {
      "text/plain": [
       "3919.64"
      ]
     },
     "execution_count": 9,
     "metadata": {},
     "output_type": "execute_result"
    }
   ],
   "source": [
    "max([fe.money_to_number(c['balance']) for c in some_info])"
   ]
  },
  {
   "cell_type": "code",
   "execution_count": 18,
   "id": "bb21ec2a",
   "metadata": {},
   "outputs": [
    {
     "data": {
      "text/plain": [
       "'strawberry'"
      ]
     },
     "execution_count": 18,
     "metadata": {},
     "output_type": "execute_result"
    }
   ],
   "source": [
    "some_info[0]['favoriteFruit']"
   ]
  },
  {
   "cell_type": "code",
   "execution_count": 35,
   "id": "59fccaac",
   "metadata": {},
   "outputs": [
    {
     "data": {
      "text/plain": [
       "['strawberry',\n",
       " 'apple',\n",
       " 'banana',\n",
       " 'banana',\n",
       " 'apple',\n",
       " 'apple',\n",
       " 'banana',\n",
       " 'strawberry',\n",
       " 'strawberry',\n",
       " 'banana',\n",
       " 'strawberry',\n",
       " 'strawberry',\n",
       " 'apple',\n",
       " 'strawberry',\n",
       " 'strawberry',\n",
       " 'banana',\n",
       " 'strawberry',\n",
       " 'banana',\n",
       " 'strawberry']"
      ]
     },
     "execution_count": 35,
     "metadata": {},
     "output_type": "execute_result"
    }
   ],
   "source": [
    "x = 0\n",
    "new_list = []\n",
    "fave_fruit = {}\n",
    "\n",
    "for person in some_info:\n",
    "    new_list.append(some_info[x]['favoriteFruit'])\n",
    "    x += 1\n",
    "\n",
    "new_list\n",
    "\n",
    "for fruit in new_list:\n",
    "    f = 0\n",
    "    if fruit[f] == ''"
   ]
  },
  {
   "cell_type": "code",
   "execution_count": 43,
   "id": "0f394ae0",
   "metadata": {},
   "outputs": [
    {
     "data": {
      "text/plain": [
       "9"
      ]
     },
     "execution_count": 43,
     "metadata": {},
     "output_type": "execute_result"
    }
   ],
   "source": [
    "new_list.count('strawberry')"
   ]
  },
  {
   "cell_type": "code",
   "execution_count": 34,
   "id": "c3a8ca05",
   "metadata": {},
   "outputs": [
    {
     "data": {
      "text/plain": [
       "{'banana': 6, 'strawberry': 9, 'apple': 4}"
      ]
     },
     "execution_count": 34,
     "metadata": {},
     "output_type": "execute_result"
    }
   ],
   "source": [
    "fave_fruit"
   ]
  },
  {
   "cell_type": "code",
   "execution_count": null,
   "id": "d2fc92fe",
   "metadata": {},
   "outputs": [],
   "source": [
    "max()"
   ]
  }
 ],
 "metadata": {
  "kernelspec": {
   "display_name": "Python 3 (ipykernel)",
   "language": "python",
   "name": "python3"
  },
  "language_info": {
   "codemirror_mode": {
    "name": "ipython",
    "version": 3
   },
   "file_extension": ".py",
   "mimetype": "text/x-python",
   "name": "python",
   "nbconvert_exporter": "python",
   "pygments_lexer": "ipython3",
   "version": "3.9.12"
  }
 },
 "nbformat": 4,
 "nbformat_minor": 5
}
