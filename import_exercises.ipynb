{
 "cells": [
  {
   "cell_type": "code",
   "execution_count": 11,
   "id": "35825022",
   "metadata": {},
   "outputs": [],
   "source": [
    "import itertools as it"
   ]
  },
  {
   "cell_type": "code",
   "execution_count": 1,
   "id": "cca7ef03",
   "metadata": {},
   "outputs": [],
   "source": [
    "from function_exercises import get_letter_grade"
   ]
  },
  {
   "cell_type": "code",
   "execution_count": 2,
   "id": "fb359f0b",
   "metadata": {},
   "outputs": [
    {
     "data": {
      "text/plain": [
       "'C'"
      ]
     },
     "execution_count": 2,
     "metadata": {},
     "output_type": "execute_result"
    }
   ],
   "source": [
    "get_letter_grade(78)"
   ]
  },
  {
   "cell_type": "markdown",
   "id": "b6aafade",
   "metadata": {},
   "source": [
    "### How many different ways can you combine the letters from \"abc\" with the numbers 1, 2, and 3?\n"
   ]
  },
  {
   "cell_type": "code",
   "execution_count": 12,
   "id": "783385aa",
   "metadata": {},
   "outputs": [
    {
     "data": {
      "text/plain": [
       "9"
      ]
     },
     "execution_count": 12,
     "metadata": {},
     "output_type": "execute_result"
    }
   ],
   "source": [
    "len(list(it.product(\"abc\", \"123\")))"
   ]
  },
  {
   "cell_type": "markdown",
   "id": "15e22b6d",
   "metadata": {},
   "source": [
    "### How many different combinations are there of 2 letters from \"abcd\"?"
   ]
  },
  {
   "cell_type": "code",
   "execution_count": 18,
   "id": "d7685883",
   "metadata": {},
   "outputs": [
    {
     "data": {
      "text/plain": [
       "6"
      ]
     },
     "execution_count": 18,
     "metadata": {},
     "output_type": "execute_result"
    }
   ],
   "source": [
    "len(list(it.combinations(\"abcd\", r=2)))"
   ]
  },
  {
   "cell_type": "markdown",
   "id": "45fa4a75",
   "metadata": {},
   "source": [
    "### How many different permutations are there of 2 letters from \"abcd\"?"
   ]
  },
  {
   "cell_type": "code",
   "execution_count": 17,
   "id": "42801003",
   "metadata": {},
   "outputs": [
    {
     "data": {
      "text/plain": [
       "12"
      ]
     },
     "execution_count": 17,
     "metadata": {},
     "output_type": "execute_result"
    }
   ],
   "source": [
    "len(list(it.permutations(\"abcd\", r=2)))"
   ]
  }
 ],
 "metadata": {
  "kernelspec": {
   "display_name": "Python 3 (ipykernel)",
   "language": "python",
   "name": "python3"
  },
  "language_info": {
   "codemirror_mode": {
    "name": "ipython",
    "version": 3
   },
   "file_extension": ".py",
   "mimetype": "text/x-python",
   "name": "python",
   "nbconvert_exporter": "python",
   "pygments_lexer": "ipython3",
   "version": "3.9.12"
  }
 },
 "nbformat": 4,
 "nbformat_minor": 5
}
