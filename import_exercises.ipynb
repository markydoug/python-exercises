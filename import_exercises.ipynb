{
 "cells": [
  {
   "cell_type": "code",
   "execution_count": 2,
   "id": "7ced0dba",
   "metadata": {},
   "outputs": [],
   "source": [
    "import function_exercises"
   ]
  },
  {
   "cell_type": "code",
   "execution_count": 3,
   "id": "78a42cee",
   "metadata": {},
   "outputs": [
    {
     "data": {
      "text/plain": [
       "True"
      ]
     },
     "execution_count": 3,
     "metadata": {},
     "output_type": "execute_result"
    }
   ],
   "source": [
    "function_exercises.is_vowel('a')"
   ]
  },
  {
   "cell_type": "code",
   "execution_count": 11,
   "id": "35825022",
   "metadata": {},
   "outputs": [],
   "source": [
    "import itertools as it"
   ]
  },
  {
   "cell_type": "code",
   "execution_count": 1,
   "id": "cca7ef03",
   "metadata": {},
   "outputs": [],
   "source": [
    "from function_exercises import get_letter_grade"
   ]
  },
  {
   "cell_type": "code",
   "execution_count": 2,
   "id": "fb359f0b",
   "metadata": {},
   "outputs": [
    {
     "data": {
      "text/plain": [
       "'C'"
      ]
     },
     "execution_count": 2,
     "metadata": {},
     "output_type": "execute_result"
    }
   ],
   "source": [
    "get_letter_grade(78)"
   ]
  },
  {
   "cell_type": "markdown",
   "id": "b6aafade",
   "metadata": {},
   "source": [
    "### How many different ways can you combine the letters from \"abc\" with the numbers 1, 2, and 3?\n"
   ]
  },
  {
   "cell_type": "code",
   "execution_count": 12,
   "id": "783385aa",
   "metadata": {},
   "outputs": [
    {
     "data": {
      "text/plain": [
       "9"
      ]
     },
     "execution_count": 12,
     "metadata": {},
     "output_type": "execute_result"
    }
   ],
   "source": [
    "len(list(it.product(\"abc\", \"123\")))"
   ]
  },
  {
   "cell_type": "markdown",
   "id": "15e22b6d",
   "metadata": {},
   "source": [
    "### How many different combinations are there of 2 letters from \"abcd\"?"
   ]
  },
  {
   "cell_type": "code",
   "execution_count": 18,
   "id": "d7685883",
   "metadata": {},
   "outputs": [
    {
     "data": {
      "text/plain": [
       "6"
      ]
     },
     "execution_count": 18,
     "metadata": {},
     "output_type": "execute_result"
    }
   ],
   "source": [
    "len(list(it.combinations(\"abcd\", r=2)))"
   ]
  },
  {
   "cell_type": "markdown",
   "id": "45fa4a75",
   "metadata": {},
   "source": [
    "### How many different permutations are there of 2 letters from \"abcd\"?"
   ]
  },
  {
   "cell_type": "code",
   "execution_count": 17,
   "id": "42801003",
   "metadata": {},
   "outputs": [
    {
     "data": {
      "text/plain": [
       "12"
      ]
     },
     "execution_count": 17,
     "metadata": {},
     "output_type": "execute_result"
    }
   ],
   "source": [
    "len(list(it.permutations(\"abcd\", r=2)))"
   ]
  },
  {
   "cell_type": "code",
   "execution_count": 2,
   "id": "3fdd121a",
   "metadata": {},
   "outputs": [],
   "source": [
    "import json\n",
    "import function_exercises as fe\n",
    "import itertools as it\n",
    "\n",
    "some_info = json.load(open('profiles.json'))"
   ]
  },
  {
   "cell_type": "markdown",
   "id": "14f1af66",
   "metadata": {},
   "source": [
    "## Total number of users"
   ]
  },
  {
   "cell_type": "code",
   "execution_count": 3,
   "id": "67530df7",
   "metadata": {},
   "outputs": [
    {
     "data": {
      "text/plain": [
       "19"
      ]
     },
     "execution_count": 3,
     "metadata": {},
     "output_type": "execute_result"
    }
   ],
   "source": [
    "len(some_info[:])"
   ]
  },
  {
   "cell_type": "markdown",
   "id": "cbc676d3",
   "metadata": {},
   "source": [
    "## Number of active users"
   ]
  },
  {
   "cell_type": "code",
   "execution_count": 11,
   "id": "a5a398f8",
   "metadata": {},
   "outputs": [
    {
     "data": {
      "text/plain": [
       "9"
      ]
     },
     "execution_count": 11,
     "metadata": {},
     "output_type": "execute_result"
    }
   ],
   "source": [
    "len([c for c in some_info if c['isActive']== True])"
   ]
  },
  {
   "cell_type": "markdown",
   "id": "e3ed55f8",
   "metadata": {},
   "source": [
    "## Number of inactive users"
   ]
  },
  {
   "cell_type": "code",
   "execution_count": 5,
   "id": "708bc1fa",
   "metadata": {},
   "outputs": [
    {
     "data": {
      "text/plain": [
       "10"
      ]
     },
     "execution_count": 5,
     "metadata": {},
     "output_type": "execute_result"
    }
   ],
   "source": [
    "len([c for c in some_info if c['isActive']== False])"
   ]
  },
  {
   "cell_type": "markdown",
   "id": "e3068033",
   "metadata": {},
   "source": [
    "## Grand total of balances for all users"
   ]
  },
  {
   "cell_type": "code",
   "execution_count": 4,
   "id": "f9257cf7",
   "metadata": {},
   "outputs": [
    {
     "data": {
      "text/plain": [
       "52667.02"
      ]
     },
     "execution_count": 4,
     "metadata": {},
     "output_type": "execute_result"
    }
   ],
   "source": [
    "sum([fe.money_to_number(c['balance']) for c in some_info])"
   ]
  },
  {
   "cell_type": "markdown",
   "id": "254e8b12",
   "metadata": {},
   "source": [
    "## Average balance per user"
   ]
  },
  {
   "cell_type": "code",
   "execution_count": 40,
   "id": "78eedfc1",
   "metadata": {},
   "outputs": [
    {
     "data": {
      "text/plain": [
       "2771.95"
      ]
     },
     "execution_count": 40,
     "metadata": {},
     "output_type": "execute_result"
    }
   ],
   "source": [
    "round(sum([fe.money_to_number(c['balance']) for c in some_info])/len(some_info[:]),2)"
   ]
  },
  {
   "cell_type": "markdown",
   "id": "181f9d4f",
   "metadata": {},
   "source": [
    "## User with the lowest balance"
   ]
  },
  {
   "cell_type": "code",
   "execution_count": 37,
   "id": "f79805fc",
   "metadata": {},
   "outputs": [
    {
     "data": {
      "text/plain": [
       "['Avery Flynn $1,214.10']"
      ]
     },
     "execution_count": 37,
     "metadata": {},
     "output_type": "execute_result"
    }
   ],
   "source": [
    "[c['name'] + \" \" + c['balance'] for c in some_info if fe.money_to_number(c['balance']) == min([fe.money_to_number(c['balance']) for c in some_info])]"
   ]
  },
  {
   "cell_type": "markdown",
   "id": "018bc000",
   "metadata": {},
   "source": [
    "## User with the highest balance"
   ]
  },
  {
   "cell_type": "code",
   "execution_count": 39,
   "id": "16cb3245",
   "metadata": {},
   "outputs": [
    {
     "data": {
      "text/plain": [
       "['Fay Hammond $3,919.64']"
      ]
     },
     "execution_count": 39,
     "metadata": {},
     "output_type": "execute_result"
    }
   ],
   "source": [
    "[c['name'] + \" \" + c['balance'] for c in some_info if fe.money_to_number(c['balance']) == max([fe.money_to_number(c['balance']) for c in some_info])]"
   ]
  },
  {
   "cell_type": "markdown",
   "id": "3fc56007",
   "metadata": {},
   "source": [
    "## Dictionary of favorite fruit with a count of users who chose it"
   ]
  },
  {
   "cell_type": "code",
   "execution_count": 7,
   "id": "513ae3a1",
   "metadata": {},
   "outputs": [
    {
     "data": {
      "text/plain": [
       "{'apple': 4, 'strawberry': 9, 'banana': 6}"
      ]
     },
     "execution_count": 7,
     "metadata": {},
     "output_type": "execute_result"
    }
   ],
   "source": [
    "#create list of favorite fruits\n",
    "favorite_fruits = [i['favoriteFruit'] for i in some_info]\n",
    "# convert list into a set to find unique values\n",
    "unique_fruits = set(favorite_fruits)\n",
    "# create a dictionary to hold count values\n",
    "fruit_preferences = {}\n",
    "# fill the dictionary\n",
    "for u in unique_fruits:\n",
    "    count = 0\n",
    "    for f in favorite_fruits:\n",
    "        if u == f:\n",
    "            count += 1\n",
    "    fruit_preferences[u] = count\n",
    "fruit_preferences"
   ]
  },
  {
   "cell_type": "markdown",
   "id": "d3e5e2c0",
   "metadata": {},
   "source": [
    "## Most common favorite fruit"
   ]
  },
  {
   "cell_type": "code",
   "execution_count": 4,
   "id": "59fccaac",
   "metadata": {},
   "outputs": [
    {
     "name": "stdout",
     "output_type": "stream",
     "text": [
      "strawberry\n"
     ]
    }
   ],
   "source": [
    "list_of_fruit = []\n",
    "for i in some_info:\n",
    "    list_of_fruit.append(i['favoriteFruit'])\n",
    "print(max(list_of_fruit, key = list_of_fruit.count))"
   ]
  },
  {
   "cell_type": "markdown",
   "id": "bf6ccaec",
   "metadata": {},
   "source": [
    "## Least most common favorite fruit"
   ]
  },
  {
   "cell_type": "code",
   "execution_count": 3,
   "id": "c3a8ca05",
   "metadata": {},
   "outputs": [
    {
     "name": "stdout",
     "output_type": "stream",
     "text": [
      "apple\n"
     ]
    }
   ],
   "source": [
    "list_of_fruit = []\n",
    "for i in some_info:\n",
    "    list_of_fruit.append(i['favoriteFruit'])\n",
    "print(min(list_of_fruit, key = list_of_fruit.count))"
   ]
  },
  {
   "cell_type": "markdown",
   "id": "6753ebe2",
   "metadata": {},
   "source": [
    "## Total number of unread messages for all users"
   ]
  },
  {
   "cell_type": "code",
   "execution_count": 26,
   "id": "6b94dafb",
   "metadata": {},
   "outputs": [
    {
     "data": {
      "text/plain": [
       "210"
      ]
     },
     "execution_count": 26,
     "metadata": {},
     "output_type": "execute_result"
    }
   ],
   "source": [
    "unread_messages = []\n",
    "\n",
    "greeting_split = [g['greeting'].split() for g in some_info]\n",
    "\n",
    "for person in greeting_split:\n",
    "    for word in person:\n",
    "        if word.isnumeric() == True:\n",
    "            unread_messages.append(int(word))\n",
    "\n",
    "sum(unread_messages)"
   ]
  },
  {
   "cell_type": "code",
   "execution_count": null,
   "id": "dbcf4df0",
   "metadata": {},
   "outputs": [],
   "source": []
  }
 ],
 "metadata": {
  "kernelspec": {
   "display_name": "Python 3 (ipykernel)",
   "language": "python",
   "name": "python3"
  },
  "language_info": {
   "codemirror_mode": {
    "name": "ipython",
    "version": 3
   },
   "file_extension": ".py",
   "mimetype": "text/x-python",
   "name": "python",
   "nbconvert_exporter": "python",
   "pygments_lexer": "ipython3",
   "version": "3.9.12"
  }
 },
 "nbformat": 4,
 "nbformat_minor": 5
}
